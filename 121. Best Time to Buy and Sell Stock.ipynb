{
 "cells": [
  {
   "cell_type": "code",
   "execution_count": 37,
   "metadata": {},
   "outputs": [
    {
     "name": "stdout",
     "output_type": "stream",
     "text": [
      "0\n",
      "1\n",
      "2\n",
      "3\n",
      "4\n",
      "5\n"
     ]
    }
   ],
   "source": [
    "class Solution:\n",
    "    def maxProfit(self, prices: List[int]) -> int:\n",
    "        min_price = 2**31 - 1\n",
    "        max_profit = 0\n",
    "        A = len(prices)\n",
    "        a = 0\n",
    "\n",
    "        while a < A:\n",
    "\n",
    "            if prices[a] < min_price :\n",
    "                min_price = prices[a]\n",
    "\n",
    "            profit = prices[a] - min_price\n",
    "\n",
    "            if profit > max_profit:\n",
    "                max_profit = profit\n",
    "\n",
    "            a+=1\n",
    "\n",
    "        return max_profit"
   ]
  }
 ],
 "metadata": {
  "kernelspec": {
   "display_name": "Python 3",
   "language": "python",
   "name": "python3"
  },
  "language_info": {
   "codemirror_mode": {
    "name": "ipython",
    "version": 3
   },
   "file_extension": ".py",
   "mimetype": "text/x-python",
   "name": "python",
   "nbconvert_exporter": "python",
   "pygments_lexer": "ipython3",
   "version": "3.12.2"
  }
 },
 "nbformat": 4,
 "nbformat_minor": 2
}
