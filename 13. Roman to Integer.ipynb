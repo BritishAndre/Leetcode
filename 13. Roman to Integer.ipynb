{
 "cells": [
  {
   "cell_type": "code",
   "execution_count": null,
   "metadata": {},
   "outputs": [],
   "source": [
    "class Solution:\n",
    "    def romanToInt(self, s: str) -> int:\n",
    "        romans = {\n",
    "                'I':1,\n",
    "                'V':5,\n",
    "                'X':10,\n",
    "                'L':50,\n",
    "                'C':100,\n",
    "                'D':500,\n",
    "                'M':1000\n",
    "                }\n",
    "        sum = 0\n",
    "\n",
    "        for i in range(len(s)):\n",
    "            #se il secondo numero è minore del primo sottrae\n",
    "            if i+1 < len(s) and romans[s[i]] < romans[s[i+1]]:\n",
    "                sum -= romans[s[i]]\n",
    "            else:\n",
    "            #sennò somma\n",
    "                sum += romans[s[i]]\n",
    "\n",
    "        return sum\n",
    "    \n",
    "\n"
   ]
  }
 ],
 "metadata": {
  "language_info": {
   "name": "python"
  }
 },
 "nbformat": 4,
 "nbformat_minor": 2
}
