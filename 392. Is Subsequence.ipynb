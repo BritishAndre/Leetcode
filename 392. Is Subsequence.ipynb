{
 "cells": [
  {
   "cell_type": "code",
   "execution_count": 32,
   "metadata": {},
   "outputs": [],
   "source": [
    "class Solution:\n",
    "    def isSubsequence(self, s: str, t: str) -> bool:\n",
    "        if not s : #Se s è vuoto è sempre una sottosequenza\n",
    "            return True\n",
    "        count = 0\n",
    "        for i in t:\n",
    "            if i in s and i == s[count]:  #Se i sta in s e  se il carattere i sta nella posizione giusta di S allora aumenta il contatore\n",
    "                count += 1\n",
    "            if count == len(s): # Se il contatore è uguale alla lunghezza di S allora ritorna true\n",
    "               return True\n",
    "\n",
    "        return False # Altrimenti è falso\n",
    "    \n",
    "\n",
    "\n",
    "    "
   ]
  }
 ],
 "metadata": {
  "kernelspec": {
   "display_name": "Python 3",
   "language": "python",
   "name": "python3"
  },
  "language_info": {
   "codemirror_mode": {
    "name": "ipython",
    "version": 3
   },
   "file_extension": ".py",
   "mimetype": "text/x-python",
   "name": "python",
   "nbconvert_exporter": "python",
   "pygments_lexer": "ipython3",
   "version": "3.12.2"
  }
 },
 "nbformat": 4,
 "nbformat_minor": 2
}
