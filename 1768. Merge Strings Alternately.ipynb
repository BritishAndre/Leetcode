{
 "cells": [
  {
   "cell_type": "code",
   "execution_count": null,
   "metadata": {},
   "outputs": [],
   "source": [
    "class Solution:\n",
    "    def mergeAlternately(self, word1: str, word2: str) -> str:\n",
    "        A = len(word1)\n",
    "        B = len(word2)\n",
    "        a,b = 0,0\n",
    "        s = []\n",
    "\n",
    "        counter = 1\n",
    "\n",
    "        while a < A and b < B:\n",
    "            if counter == 1:\n",
    "                s.append(word1[a])\n",
    "                a+=1\n",
    "                counter = 2\n",
    "            else:\n",
    "                s.append(word2[b])\n",
    "                b+=1\n",
    "                counter = 1\n",
    "        \n",
    "\n",
    "        while a < A:\n",
    "            s.append(word1[a])\n",
    "            a+=1\n",
    "\n",
    "        while b < B:\n",
    "            s.append(word2[b])\n",
    "            b+=1\n",
    "        \n",
    "        return ''.join(s)\n",
    "    \n",
    "    # Si fa zigzag tra le stringhe per poi appendere il rimanente della stringa\n",
    "\n",
    "\n",
    "\n",
    "    \n",
    "        "
   ]
  }
 ],
 "metadata": {
  "language_info": {
   "name": "python"
  }
 },
 "nbformat": 4,
 "nbformat_minor": 2
}
